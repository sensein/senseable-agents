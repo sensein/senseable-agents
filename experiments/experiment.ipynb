{
  "cells": [
    {
      "cell_type": "markdown",
      "metadata": {
        "id": "_PFp0JhOWCU5"
      },
      "source": [
        "# Systematically reviewing the literature using the PRISMA method and LLMs"
      ]
    },
    {
      "cell_type": "markdown",
      "metadata": {},
      "source": [
        "In this notebook, I experimentally test how LLMs may help filtering out some papers in the context of the PRISMA method for systematically reviewing the literature."
      ]
    },
    {
      "cell_type": "markdown",
      "metadata": {},
      "source": [
        "#### Utilities"
      ]
    },
    {
      "cell_type": "code",
      "execution_count": 1,
      "metadata": {},
      "outputs": [],
      "source": [
        "import requests\n",
        "import re\n",
        "from langchain.chat_models import ChatOpenAI\n",
        "from langchain.prompts import ChatPromptTemplate\n",
        "from langchain.schema import HumanMessage\n",
        "import os\n",
        "\n",
        "\n",
        "# Regex patterns for title, abstract, and keywords\n",
        "title_pattern = re.compile(r'<title>(.*?)</title>')\n",
        "abstract_pattern = re.compile(\n",
        "    r'<blockquote class=\"abstract mathjax\">\\s*<span class=\"descriptor\">Abstract:</span>\\s*(.*?)\\s*</blockquote>',\n",
        "    re.DOTALL\n",
        ")\n",
        "keywords_pattern = re.compile(r'<td class=\"tablecell keywords\">Keywords:</td>\\s*<td class=\"tablecell\">(.*?)</td>', re.DOTALL)\n",
        "\n",
        "def fetch_arxiv_data(arxiv_id: str):\n",
        "    \"\"\"Fetches the title, abstract, and keywords from an ArXiv paper given the ArXiv ID.\"\"\"\n",
        "    # Get the paper page in HTML\n",
        "    res = requests.get(f\"https://export.arxiv.org/abs/{arxiv_id}\")\n",
        "    html_content = res.text\n",
        "    \n",
        "    # Extract title\n",
        "    title_match = title_pattern.search(html_content)\n",
        "    title = title_match.group(1).strip() if title_match else \"\"\n",
        "    \n",
        "    # Extract abstract\n",
        "    abstract_match = abstract_pattern.search(html_content)\n",
        "    abstract = abstract_match.group(1).strip() if abstract_match else \"\"\n",
        "    \n",
        "    # Extract keywords (note: arXiv doesn't always provide keywords)\n",
        "    keywords_match = keywords_pattern.search(html_content)\n",
        "    keywords = keywords_match.group(1).strip() if keywords_match else \"\"\n",
        "    \n",
        "    return {\n",
        "        \"title\": title,\n",
        "        \"abstract\": abstract,\n",
        "        \"keywords\": keywords\n",
        "    }"
      ]
    },
    {
      "cell_type": "code",
      "execution_count": 2,
      "metadata": {},
      "outputs": [
        {
          "data": {
            "text/plain": [
              "'\\n# Example usage\\narxiv_id = \"2401.04088\"\\npaper_data = fetch_arxiv_data(arxiv_id)\\npaper_data\\n'"
            ]
          },
          "execution_count": 2,
          "metadata": {},
          "output_type": "execute_result"
        }
      ],
      "source": [
        "\"\"\"\n",
        "# Example usage\n",
        "arxiv_id = \"2401.04088\"\n",
        "paper_data = fetch_arxiv_data(arxiv_id)\n",
        "paper_data\n",
        "\"\"\""
      ]
    },
    {
      "cell_type": "code",
      "execution_count": 3,
      "metadata": {},
      "outputs": [],
      "source": [
        "def ask_inclusion_criteria_with_langchain(llm: ChatOpenAI, title: str, abstract: str, keywords: str, questions: list):\n",
        "    \"\"\"Given title, abstract, and keywords, answers Yes/No inclusion/exclusion questions and provides extended answers.\"\"\"\n",
        "    paper_text = f\"Title: {title}\\nAbstract: {abstract}\\nKeywords: {keywords}\"\n",
        "    \n",
        "    results = {\"yes_no_answers\": {}, \"extended_answers\": {}}\n",
        "    \n",
        "    for i, question in enumerate(questions, 1):\n",
        "        # Prepare the message prompt for both simple and extended answers\n",
        "        simple_prompt = ChatPromptTemplate.from_template(\n",
        "            f\"Based on the following paper details, answer Yes or No to the question: {question}\\n\\nPaper details:\\n{paper_text}\"\n",
        "        )\n",
        "        extended_prompt = ChatPromptTemplate.from_template(\n",
        "            f\"Based on the following paper details, answer Yes or No to the question: {question}. Also, briefly explain your reasoning behind the answer.\\n\\nPaper details:\\n{paper_text}\"\n",
        "        )\n",
        "        \n",
        "        # Get the concise Yes/No answer\n",
        "        simple_response = llm([HumanMessage(content=simple_prompt.format())])\n",
        "        simple_answer = simple_response.content.strip().lower()\n",
        "        results[\"yes_no_answers\"][f\"Q{i}\"] = True if \"yes\" in simple_answer else False\n",
        "        \n",
        "        # Get the extended answer with reasoning\n",
        "        extended_response = llm([HumanMessage(content=extended_prompt.format())])\n",
        "        extended_answer = extended_response.content.strip()\n",
        "        results[\"extended_answers\"][f\"Q{i}\"] = extended_answer\n",
        "    \n",
        "    return results\n"
      ]
    },
    {
      "cell_type": "code",
      "execution_count": 4,
      "metadata": {},
      "outputs": [
        {
          "data": {
            "text/plain": [
              "'\\n# Example usage\\npaper_data = fetch_arxiv_data(\"2401.04088\")\\ninclusion_criteria_answers, extended_answers = ask_inclusion_criteria_with_langchain(\\n    title=paper_data[\\'title\\'],\\n    abstract=paper_data[\\'abstract\\'],\\n    keywords=paper_data[\\'keywords\\']\\n)\\n\\ninclusion_criteria_answers, extended_answers\\n'"
            ]
          },
          "execution_count": 4,
          "metadata": {},
          "output_type": "execute_result"
        }
      ],
      "source": [
        "\"\"\"\n",
        "# Example usage\n",
        "paper_data = fetch_arxiv_data(\"2401.04088\")\n",
        "inclusion_criteria_answers, extended_answers = ask_inclusion_criteria_with_langchain(\n",
        "    title=paper_data['title'],\n",
        "    abstract=paper_data['abstract'],\n",
        "    keywords=paper_data['keywords']\n",
        ")\n",
        "\n",
        "inclusion_criteria_answers, extended_answers\n",
        "\"\"\""
      ]
    },
    {
      "cell_type": "code",
      "execution_count": 5,
      "metadata": {},
      "outputs": [],
      "source": [
        "def determine_inclusion(answers: dict):\n",
        "    \"\"\"Given a dictionary of Yes/No answers, determine if the paper should be included.\"\"\"\n",
        "    threshold = len(answers)\n",
        "    positive_answers = sum(answers.values())\n",
        "    return positive_answers >= threshold"
      ]
    },
    {
      "cell_type": "code",
      "execution_count": 6,
      "metadata": {},
      "outputs": [
        {
          "data": {
            "text/plain": [
              "'\\n# Example usage\\nshould_include = determine_inclusion(inclusion_criteria_answers)\\nprint(\"Should the paper be included?\", should_include)\\n'"
            ]
          },
          "execution_count": 6,
          "metadata": {},
          "output_type": "execute_result"
        }
      ],
      "source": [
        "\"\"\"\n",
        "# Example usage\n",
        "should_include = determine_inclusion(inclusion_criteria_answers)\n",
        "print(\"Should the paper be included?\", should_include)\n",
        "\"\"\""
      ]
    },
    {
      "cell_type": "markdown",
      "metadata": {},
      "source": [
        "### Init"
      ]
    },
    {
      "cell_type": "code",
      "execution_count": 7,
      "metadata": {},
      "outputs": [],
      "source": [
        "# Fetch title, abstract, and keywords\n",
        "arxiv_ids = [\"2406.13470\", \"2201.00927\", \"2401.04088\"]\n",
        "\n",
        "# Set up the questions you want to ask\n",
        "questions = [\n",
        "    \"Is the paper written in English?\",\n",
        "    \"Does the paper describe an empirical study?\",\n",
        "    \"Does the study include human participants?\",\n",
        "    \"Does the study include participants with (possibly suspected) autism?\",\n",
        "    \"Is the goal of the study to detect autism?\",\n",
        "    \"Does the study include AI tools?\",\n",
        "    \"Does the study include behavioral data?\"\n",
        "]\n",
        "\n",
        "# Set your OpenAI API key in the environment (ensure it's available before running the script)\n",
        "os.environ[\"OPENAI_API_KEY\"] = \"\""
      ]
    },
    {
      "cell_type": "markdown",
      "metadata": {},
      "source": [
        "### Main"
      ]
    },
    {
      "cell_type": "code",
      "execution_count": 8,
      "metadata": {},
      "outputs": [
        {
          "name": "stderr",
          "output_type": "stream",
          "text": [
            "/var/folders/80/qvctdhy128dc1l3w_w2x3y1m0000gn/T/ipykernel_47107/607166730.py:2: LangChainDeprecationWarning: The class `ChatOpenAI` was deprecated in LangChain 0.0.10 and will be removed in 1.0. An updated version of the class exists in the :class:`~langchain-openai package and should be used instead. To use it run `pip install -U :class:`~langchain-openai` and import as `from :class:`~langchain_openai import ChatOpenAI``.\n",
            "  llm = ChatOpenAI(model=\"gpt-4o-mini\", temperature=0)  # Adjust the model as needed\n",
            "/var/folders/80/qvctdhy128dc1l3w_w2x3y1m0000gn/T/ipykernel_47107/3559705214.py:17: LangChainDeprecationWarning: The method `BaseChatModel.__call__` was deprecated in langchain-core 0.1.7 and will be removed in 1.0. Use :meth:`~invoke` instead.\n",
            "  simple_response = llm([HumanMessage(content=simple_prompt.format())])\n"
          ]
        },
        {
          "name": "stdout",
          "output_type": "stream",
          "text": [
            "Should the paper 2406.13470 be included? True\n",
            "Yes/No Answers: {'Q1': True, 'Q2': True, 'Q3': True, 'Q4': True, 'Q5': True, 'Q6': True, 'Q7': True}\n",
            "Extended Answers: {'Q1': \"Yes.\\n\\nReasoning: The paper's title and abstract are written in English, as evidenced by the use of English vocabulary and grammar throughout the text. The terminology and structure are consistent with academic writing in English, indicating that the paper is indeed written in that language.\", 'Q2': 'Yes.\\n\\nReasoning: The paper describes an empirical study as it involves the evaluation of a proposed automatic speech classification algorithm using a dataset of recorded speeches from both autistic and non-autistic subjects. The mention of testing the classification algorithms on actual collected data indicates that the research is based on empirical evidence gathered from real-world observations or experiments.', 'Q3': 'Yes.\\n\\nReasoning: The study involves a dataset composed of recorded speeches from both autistic and non-autistic subjects, indicating that human participants were involved in the research. The focus on characterizing prosodic elements in speech suggests that the data was collected from individuals, which confirms the inclusion of human participants in the study.', 'Q4': 'Yes.\\n\\nReasoning: The study explicitly mentions that it evaluates a dataset composed of recorded speeches from both autistic and non-autistic subjects. This indicates that participants with autism (or possibly suspected autism) are included in the study, as it aims to characterize prosodic elements that distinguish autism.', 'Q5': 'Yes.\\n\\nThe goal of the study is to detect autism, as indicated by the focus on developing an automatic speech classification algorithm that characterizes prosodic elements to distinguish between autistic and non-autistic subjects. The study aims to support traditional diagnosis methods by providing a tool that can help identify autism based on speech patterns.', 'Q6': 'Yes.\\n\\nReasoning: The study involves the development and evaluation of an \"automatic speech classification algorithm,\" which is a type of AI tool used for analyzing and classifying speech patterns. The mention of \"classification algorithms\" indicates the use of machine learning or AI techniques to process and interpret the data, specifically to distinguish between autistic and non-autistic speech.', 'Q7': 'Yes.\\n\\nReasoning: The study involves the classification of speech characteristics (prosodic elements) to distinguish between autistic and non-autistic subjects. This implies that the researchers are analyzing behavioral data related to speech patterns and vocal characteristics, which are behavioral indicators often associated with autism. The focus on recorded speeches suggests that the study is examining how individuals with autism communicate, which is a key aspect of behavioral data.'}\n",
            "Should the paper 2201.00927 be included? True\n",
            "Yes/No Answers: {'Q1': True, 'Q2': True, 'Q3': True, 'Q4': True, 'Q5': True, 'Q6': True, 'Q7': True}\n",
            "Extended Answers: {'Q1': \"Yes.\\n\\nReasoning: The paper's title and abstract are written in English, as evidenced by the use of English vocabulary, grammar, and syntax throughout the text. The content discusses autism spectrum disorder and machine learning approaches in a coherent manner typical of academic English writing.\", 'Q2': 'Yes.\\n\\nReasoning: The paper describes an empirical study as it involves the collection and analysis of data from self-recorded speech audio of autistic and neurotypical children. The authors present machine learning approaches to detect autism based on this dataset, which indicates that they conducted experiments to evaluate the effectiveness of their models. The mention of specific accuracy results for different classifiers further supports the empirical nature of the study, as it reflects the application of statistical methods to real-world data.', 'Q3': 'Yes.\\n\\nReasoning: The study involves the collection and analysis of speech audio from children diagnosed with autism spectrum disorder (ASD) as well as neurotypical (NT) children. Since the research is based on data obtained from these children, it clearly includes human participants. The mention of \"self-recorded speech audio captured from autistic and neurotypical children\" indicates direct involvement of human subjects in the study.', 'Q4': 'Yes.\\n\\nReasoning: The study explicitly mentions that it includes speech audio from both autistic children and neurotypical (NT) children. The focus on detecting autism through speech analysis indicates that participants with (possibly suspected) autism are indeed part of the study.', 'Q5': \"Yes.\\n\\nThe goal of the study is to detect autism, as indicated by the focus on developing machine learning approaches to classify children's speech audio as either indicative of autism spectrum disorder (ASD) or neurotypical (NT). The abstract explicitly mentions the intention to create systems that automatically screen for autism and describes the methods used to achieve this classification. The study's results demonstrate the effectiveness of these methods in predicting autism status based on speech patterns, further supporting the conclusion that the primary aim is to detect autism.\", 'Q6': 'Yes.\\n\\nReasoning: The study explicitly mentions the use of machine learning approaches, including Random Forests, convolutional neural networks (CNNs), and a fine-tuned wav2vec 2.0 model, which are all AI tools. These methods are employed to analyze speech audio for detecting autism, indicating that the study incorporates artificial intelligence techniques in its research.', 'Q7': 'Yes.\\n\\nReasoning: The study involves analyzing self-recorded speech audio from children, which is a form of behavioral data. The focus on speech patterns, prosody abnormalities, and the differences in communication between autistic and neurotypical children indicates that the research is examining behavioral aspects related to autism spectrum disorder (ASD). The use of machine learning to classify audio recordings based on these behavioral characteristics further supports the inclusion of behavioral data in the study.'}\n",
            "Should the paper 2401.04088 be included? False\n",
            "Yes/No Answers: {'Q1': True, 'Q2': False, 'Q3': False, 'Q4': False, 'Q5': False, 'Q6': True, 'Q7': False}\n",
            "Extended Answers: {'Q1': 'Yes.\\n\\nReasoning: The title and abstract of the paper are presented in English, indicating that the content is likely written in English. The terminology and structure used in the abstract are consistent with academic English, further supporting this conclusion.', 'Q2': \"No.\\n\\nReasoning: The abstract describes the introduction of a new language model, Mixtral, and discusses its architecture, training, and performance compared to other models. However, it does not mention any empirical study involving data collection, experiments, or analysis of results from real-world applications or user interactions. The focus is on the model's design and performance metrics rather than on conducting an empirical investigation.\", 'Q3': 'No. \\n\\nThe study does not include human participants. The abstract discusses the development and performance of a language model, specifically a Sparse Mixture of Experts (SMoE) model, and mentions benchmarks and comparisons with other models. While it references \"human benchmarks,\" this typically refers to performance metrics derived from tasks that may involve human evaluation or standards, rather than direct participation of human subjects in the study itself. The focus is on the model\\'s architecture and its performance on various tasks, not on conducting research involving human participants.', 'Q4': 'No. \\n\\nThe paper details provided do not mention any participants, nor do they indicate that the study involves human subjects or any research related to autism. The focus of the paper is on a language model and its performance benchmarks, which suggests it is a technical or computational study rather than one involving human participants with autism.', 'Q5': 'No. \\n\\nThe goal of the study, as indicated by the title and abstract, is to introduce and evaluate a new language model called Mixtral, which is a Sparse Mixture of Experts model. The focus is on its architecture, performance benchmarks, and capabilities in tasks such as mathematics, code generation, and multilingual processing. There is no mention of autism detection or any related objectives in the provided details.', 'Q6': 'Yes.\\n\\nReasoning: The study discusses the development of a Sparse Mixture of Experts (SMoE) language model, which is a type of artificial intelligence (AI) tool. The paper details the architecture and performance of the Mixtral model, indicating that it is designed for natural language processing tasks, which are typical applications of AI. The mention of training, fine-tuning, and performance comparisons with other AI models further supports that this study involves AI tools.', 'Q7': 'No. \\n\\nThe study described in the paper details focuses on a Sparse Mixture of Experts (SMoE) language model and its performance on various benchmarks, including mathematics, code generation, and multilingual tasks. The mention of \"human benchmarks\" suggests that the model\\'s performance was evaluated based on human-generated data or tasks, but it does not indicate that the study includes behavioral data in the sense of observing or analyzing human behavior. Instead, it appears to be centered on the model\\'s capabilities and performance metrics rather than behavioral analysis.'}\n"
          ]
        }
      ],
      "source": [
        "# Initialize the OpenAI model\n",
        "llm = ChatOpenAI(model=\"gpt-4o-mini\", temperature=0)  # Adjust the model as needed\n",
        "\n",
        "# Store inclusion decisions and answers for each paper\n",
        "should_include_list = []\n",
        "detailed_answers_list = []\n",
        "\n",
        "for arxiv_id in arxiv_ids:\n",
        "    paper_data = fetch_arxiv_data(arxiv_id)\n",
        "\n",
        "    # Ask inclusion/exclusion questions and get both Yes/No and extended answers\n",
        "    inclusion_criteria_answers = ask_inclusion_criteria_with_langchain(\n",
        "        llm=llm,\n",
        "        title=paper_data['title'],\n",
        "        abstract=paper_data['abstract'],\n",
        "        keywords=paper_data['keywords'],\n",
        "        questions=questions\n",
        "    )\n",
        "\n",
        "    # Determine if the paper should be included\n",
        "    should_include = determine_inclusion(inclusion_criteria_answers[\"yes_no_answers\"])\n",
        "    should_include_list.append({\n",
        "        \"arxiv_id\": arxiv_id,\n",
        "        \"should_include\": should_include\n",
        "    })\n",
        "\n",
        "    # Store detailed answers for further inspection\n",
        "    detailed_answers_list.append({\n",
        "        \"arxiv_id\": arxiv_id,\n",
        "        \"yes_no_answers\": inclusion_criteria_answers[\"yes_no_answers\"],\n",
        "        \"extended_answers\": inclusion_criteria_answers[\"extended_answers\"]\n",
        "    })\n",
        "\n",
        "    # Print results for each paper\n",
        "    print(f\"Should the paper {arxiv_id} be included? {should_include}\")\n",
        "    print(\"Yes/No Answers:\", inclusion_criteria_answers[\"yes_no_answers\"])\n",
        "    print(\"Extended Answers:\", inclusion_criteria_answers[\"extended_answers\"])"
      ]
    },
    {
      "cell_type": "markdown",
      "metadata": {},
      "source": [
        "#### Results"
      ]
    },
    {
      "cell_type": "code",
      "execution_count": 9,
      "metadata": {},
      "outputs": [
        {
          "name": "stdout",
          "output_type": "stream",
          "text": [
            "\n",
            "Final Inclusion Decisions:\n",
            "{'arxiv_id': '2406.13470', 'should_include': True}\n",
            "{'arxiv_id': '2201.00927', 'should_include': True}\n",
            "{'arxiv_id': '2401.04088', 'should_include': False}\n",
            "\n",
            "Detailed Responses for Each Paper:\n",
            "{'arxiv_id': '2406.13470', 'yes_no_answers': {'Q1': True, 'Q2': True, 'Q3': True, 'Q4': True, 'Q5': True, 'Q6': True, 'Q7': True}, 'extended_answers': {'Q1': \"Yes.\\n\\nReasoning: The paper's title and abstract are written in English, as evidenced by the use of English vocabulary and grammar throughout the text. The terminology and structure are consistent with academic writing in English, indicating that the paper is indeed written in that language.\", 'Q2': 'Yes.\\n\\nReasoning: The paper describes an empirical study as it involves the evaluation of a proposed automatic speech classification algorithm using a dataset of recorded speeches from both autistic and non-autistic subjects. The mention of testing the classification algorithms on actual collected data indicates that the research is based on empirical evidence gathered from real-world observations or experiments.', 'Q3': 'Yes.\\n\\nReasoning: The study involves a dataset composed of recorded speeches from both autistic and non-autistic subjects, indicating that human participants were involved in the research. The focus on characterizing prosodic elements in speech suggests that the data was collected from individuals, which confirms the inclusion of human participants in the study.', 'Q4': 'Yes.\\n\\nReasoning: The study explicitly mentions that it evaluates a dataset composed of recorded speeches from both autistic and non-autistic subjects. This indicates that participants with autism (or possibly suspected autism) are included in the study, as it aims to characterize prosodic elements that distinguish autism.', 'Q5': 'Yes.\\n\\nThe goal of the study is to detect autism, as indicated by the focus on developing an automatic speech classification algorithm that characterizes prosodic elements to distinguish between autistic and non-autistic subjects. The study aims to support traditional diagnosis methods by providing a tool that can help identify autism based on speech patterns.', 'Q6': 'Yes.\\n\\nReasoning: The study involves the development and evaluation of an \"automatic speech classification algorithm,\" which is a type of AI tool used for analyzing and classifying speech patterns. The mention of \"classification algorithms\" indicates the use of machine learning or AI techniques to process and interpret the data, specifically to distinguish between autistic and non-autistic speech.', 'Q7': 'Yes.\\n\\nReasoning: The study involves the classification of speech characteristics (prosodic elements) to distinguish between autistic and non-autistic subjects. This implies that the researchers are analyzing behavioral data related to speech patterns and vocal characteristics, which are behavioral indicators often associated with autism. The focus on recorded speeches suggests that the study is examining how individuals with autism communicate, which is a key aspect of behavioral data.'}}\n",
            "{'arxiv_id': '2201.00927', 'yes_no_answers': {'Q1': True, 'Q2': True, 'Q3': True, 'Q4': True, 'Q5': True, 'Q6': True, 'Q7': True}, 'extended_answers': {'Q1': \"Yes.\\n\\nReasoning: The paper's title and abstract are written in English, as evidenced by the use of English vocabulary, grammar, and syntax throughout the text. The content discusses autism spectrum disorder and machine learning approaches in a coherent manner typical of academic English writing.\", 'Q2': 'Yes.\\n\\nReasoning: The paper describes an empirical study as it involves the collection and analysis of data from self-recorded speech audio of autistic and neurotypical children. The authors present machine learning approaches to detect autism based on this dataset, which indicates that they conducted experiments to evaluate the effectiveness of their models. The mention of specific accuracy results for different classifiers further supports the empirical nature of the study, as it reflects the application of statistical methods to real-world data.', 'Q3': 'Yes.\\n\\nReasoning: The study involves the collection and analysis of speech audio from children diagnosed with autism spectrum disorder (ASD) as well as neurotypical (NT) children. Since the research is based on data obtained from these children, it clearly includes human participants. The mention of \"self-recorded speech audio captured from autistic and neurotypical children\" indicates direct involvement of human subjects in the study.', 'Q4': 'Yes.\\n\\nReasoning: The study explicitly mentions that it includes speech audio from both autistic children and neurotypical (NT) children. The focus on detecting autism through speech analysis indicates that participants with (possibly suspected) autism are indeed part of the study.', 'Q5': \"Yes.\\n\\nThe goal of the study is to detect autism, as indicated by the focus on developing machine learning approaches to classify children's speech audio as either indicative of autism spectrum disorder (ASD) or neurotypical (NT). The abstract explicitly mentions the intention to create systems that automatically screen for autism and describes the methods used to achieve this classification. The study's results demonstrate the effectiveness of these methods in predicting autism status based on speech patterns, further supporting the conclusion that the primary aim is to detect autism.\", 'Q6': 'Yes.\\n\\nReasoning: The study explicitly mentions the use of machine learning approaches, including Random Forests, convolutional neural networks (CNNs), and a fine-tuned wav2vec 2.0 model, which are all AI tools. These methods are employed to analyze speech audio for detecting autism, indicating that the study incorporates artificial intelligence techniques in its research.', 'Q7': 'Yes.\\n\\nReasoning: The study involves analyzing self-recorded speech audio from children, which is a form of behavioral data. The focus on speech patterns, prosody abnormalities, and the differences in communication between autistic and neurotypical children indicates that the research is examining behavioral aspects related to autism spectrum disorder (ASD). The use of machine learning to classify audio recordings based on these behavioral characteristics further supports the inclusion of behavioral data in the study.'}}\n",
            "{'arxiv_id': '2401.04088', 'yes_no_answers': {'Q1': True, 'Q2': False, 'Q3': False, 'Q4': False, 'Q5': False, 'Q6': True, 'Q7': False}, 'extended_answers': {'Q1': 'Yes.\\n\\nReasoning: The title and abstract of the paper are presented in English, indicating that the content is likely written in English. The terminology and structure used in the abstract are consistent with academic English, further supporting this conclusion.', 'Q2': \"No.\\n\\nReasoning: The abstract describes the introduction of a new language model, Mixtral, and discusses its architecture, training, and performance compared to other models. However, it does not mention any empirical study involving data collection, experiments, or analysis of results from real-world applications or user interactions. The focus is on the model's design and performance metrics rather than on conducting an empirical investigation.\", 'Q3': 'No. \\n\\nThe study does not include human participants. The abstract discusses the development and performance of a language model, specifically a Sparse Mixture of Experts (SMoE) model, and mentions benchmarks and comparisons with other models. While it references \"human benchmarks,\" this typically refers to performance metrics derived from tasks that may involve human evaluation or standards, rather than direct participation of human subjects in the study itself. The focus is on the model\\'s architecture and its performance on various tasks, not on conducting research involving human participants.', 'Q4': 'No. \\n\\nThe paper details provided do not mention any participants, nor do they indicate that the study involves human subjects or any research related to autism. The focus of the paper is on a language model and its performance benchmarks, which suggests it is a technical or computational study rather than one involving human participants with autism.', 'Q5': 'No. \\n\\nThe goal of the study, as indicated by the title and abstract, is to introduce and evaluate a new language model called Mixtral, which is a Sparse Mixture of Experts model. The focus is on its architecture, performance benchmarks, and capabilities in tasks such as mathematics, code generation, and multilingual processing. There is no mention of autism detection or any related objectives in the provided details.', 'Q6': 'Yes.\\n\\nReasoning: The study discusses the development of a Sparse Mixture of Experts (SMoE) language model, which is a type of artificial intelligence (AI) tool. The paper details the architecture and performance of the Mixtral model, indicating that it is designed for natural language processing tasks, which are typical applications of AI. The mention of training, fine-tuning, and performance comparisons with other AI models further supports that this study involves AI tools.', 'Q7': 'No. \\n\\nThe study described in the paper details focuses on a Sparse Mixture of Experts (SMoE) language model and its performance on various benchmarks, including mathematics, code generation, and multilingual tasks. The mention of \"human benchmarks\" suggests that the model\\'s performance was evaluated based on human-generated data or tasks, but it does not indicate that the study includes behavioral data in the sense of observing or analyzing human behavior. Instead, it appears to be centered on the model\\'s capabilities and performance metrics rather than behavioral analysis.'}}\n"
          ]
        }
      ],
      "source": [
        "# Example of what you could do with results\n",
        "print(\"\\nFinal Inclusion Decisions:\")\n",
        "for result in should_include_list:\n",
        "    print(result)\n",
        "\n",
        "print(\"\\nDetailed Responses for Each Paper:\")\n",
        "for result in detailed_answers_list:\n",
        "    print(result)\n"
      ]
    },
    {
      "cell_type": "code",
      "execution_count": null,
      "metadata": {},
      "outputs": [],
      "source": []
    }
  ],
  "metadata": {
    "colab": {
      "provenance": []
    },
    "kernelspec": {
      "display_name": "senseable_agents",
      "language": "python",
      "name": "python3"
    },
    "language_info": {
      "codemirror_mode": {
        "name": "ipython",
        "version": 3
      },
      "file_extension": ".py",
      "mimetype": "text/x-python",
      "name": "python",
      "nbconvert_exporter": "python",
      "pygments_lexer": "ipython3",
      "version": "3.10.15"
    },
    "widgets": {
      "application/vnd.jupyter.widget-state+json": {
        "24a571b8cc864f60bea7ae90ef331b21": {
          "model_module": "@jupyter-widgets/controls",
          "model_module_version": "1.5.0",
          "model_name": "HTMLModel",
          "state": {
            "_dom_classes": [],
            "_model_module": "@jupyter-widgets/controls",
            "_model_module_version": "1.5.0",
            "_model_name": "HTMLModel",
            "_view_count": null,
            "_view_module": "@jupyter-widgets/controls",
            "_view_module_version": "1.5.0",
            "_view_name": "HTMLView",
            "description": "",
            "description_tooltip": null,
            "layout": "IPY_MODEL_c52a55d3643b4f1c83bdf1b1b5fce242",
            "placeholder": "​",
            "style": "IPY_MODEL_7de73bce9c0540e2b3b2c599d57ae215",
            "value": "100%"
          }
        },
        "45580486ce0742b29d0de17850c42060": {
          "model_module": "@jupyter-widgets/controls",
          "model_module_version": "1.5.0",
          "model_name": "FloatProgressModel",
          "state": {
            "_dom_classes": [],
            "_model_module": "@jupyter-widgets/controls",
            "_model_module_version": "1.5.0",
            "_model_name": "FloatProgressModel",
            "_view_count": null,
            "_view_module": "@jupyter-widgets/controls",
            "_view_module_version": "1.5.0",
            "_view_name": "ProgressView",
            "bar_style": "success",
            "description": "",
            "description_tooltip": null,
            "layout": "IPY_MODEL_84c25583658a4f4caeedbc19dd29457a",
            "max": 79,
            "min": 0,
            "orientation": "horizontal",
            "style": "IPY_MODEL_a9594c4de9734895862a48f90bc8c621",
            "value": 79
          }
        },
        "48ec484f11324501b1020314d4989da6": {
          "model_module": "@jupyter-widgets/base",
          "model_module_version": "1.2.0",
          "model_name": "LayoutModel",
          "state": {
            "_model_module": "@jupyter-widgets/base",
            "_model_module_version": "1.2.0",
            "_model_name": "LayoutModel",
            "_view_count": null,
            "_view_module": "@jupyter-widgets/base",
            "_view_module_version": "1.2.0",
            "_view_name": "LayoutView",
            "align_content": null,
            "align_items": null,
            "align_self": null,
            "border": null,
            "bottom": null,
            "display": null,
            "flex": null,
            "flex_flow": null,
            "grid_area": null,
            "grid_auto_columns": null,
            "grid_auto_flow": null,
            "grid_auto_rows": null,
            "grid_column": null,
            "grid_gap": null,
            "grid_row": null,
            "grid_template_areas": null,
            "grid_template_columns": null,
            "grid_template_rows": null,
            "height": null,
            "justify_content": null,
            "justify_items": null,
            "left": null,
            "margin": null,
            "max_height": null,
            "max_width": null,
            "min_height": null,
            "min_width": null,
            "object_fit": null,
            "object_position": null,
            "order": null,
            "overflow": null,
            "overflow_x": null,
            "overflow_y": null,
            "padding": null,
            "right": null,
            "top": null,
            "visibility": null,
            "width": null
          }
        },
        "7de73bce9c0540e2b3b2c599d57ae215": {
          "model_module": "@jupyter-widgets/controls",
          "model_module_version": "1.5.0",
          "model_name": "DescriptionStyleModel",
          "state": {
            "_model_module": "@jupyter-widgets/controls",
            "_model_module_version": "1.5.0",
            "_model_name": "DescriptionStyleModel",
            "_view_count": null,
            "_view_module": "@jupyter-widgets/base",
            "_view_module_version": "1.2.0",
            "_view_name": "StyleView",
            "description_width": ""
          }
        },
        "84c25583658a4f4caeedbc19dd29457a": {
          "model_module": "@jupyter-widgets/base",
          "model_module_version": "1.2.0",
          "model_name": "LayoutModel",
          "state": {
            "_model_module": "@jupyter-widgets/base",
            "_model_module_version": "1.2.0",
            "_model_name": "LayoutModel",
            "_view_count": null,
            "_view_module": "@jupyter-widgets/base",
            "_view_module_version": "1.2.0",
            "_view_name": "LayoutView",
            "align_content": null,
            "align_items": null,
            "align_self": null,
            "border": null,
            "bottom": null,
            "display": null,
            "flex": null,
            "flex_flow": null,
            "grid_area": null,
            "grid_auto_columns": null,
            "grid_auto_flow": null,
            "grid_auto_rows": null,
            "grid_column": null,
            "grid_gap": null,
            "grid_row": null,
            "grid_template_areas": null,
            "grid_template_columns": null,
            "grid_template_rows": null,
            "height": null,
            "justify_content": null,
            "justify_items": null,
            "left": null,
            "margin": null,
            "max_height": null,
            "max_width": null,
            "min_height": null,
            "min_width": null,
            "object_fit": null,
            "object_position": null,
            "order": null,
            "overflow": null,
            "overflow_x": null,
            "overflow_y": null,
            "padding": null,
            "right": null,
            "top": null,
            "visibility": null,
            "width": null
          }
        },
        "925f65b6b0cc47be803c021f644a8f84": {
          "model_module": "@jupyter-widgets/controls",
          "model_module_version": "1.5.0",
          "model_name": "HBoxModel",
          "state": {
            "_dom_classes": [],
            "_model_module": "@jupyter-widgets/controls",
            "_model_module_version": "1.5.0",
            "_model_name": "HBoxModel",
            "_view_count": null,
            "_view_module": "@jupyter-widgets/controls",
            "_view_module_version": "1.5.0",
            "_view_name": "HBoxView",
            "box_style": "",
            "children": [
              "IPY_MODEL_24a571b8cc864f60bea7ae90ef331b21",
              "IPY_MODEL_45580486ce0742b29d0de17850c42060",
              "IPY_MODEL_f1f07bc63a234590ac229d63217e197a"
            ],
            "layout": "IPY_MODEL_a6d67d04d1c8432c8840f411027a0e79"
          }
        },
        "a6d67d04d1c8432c8840f411027a0e79": {
          "model_module": "@jupyter-widgets/base",
          "model_module_version": "1.2.0",
          "model_name": "LayoutModel",
          "state": {
            "_model_module": "@jupyter-widgets/base",
            "_model_module_version": "1.2.0",
            "_model_name": "LayoutModel",
            "_view_count": null,
            "_view_module": "@jupyter-widgets/base",
            "_view_module_version": "1.2.0",
            "_view_name": "LayoutView",
            "align_content": null,
            "align_items": null,
            "align_self": null,
            "border": null,
            "bottom": null,
            "display": null,
            "flex": null,
            "flex_flow": null,
            "grid_area": null,
            "grid_auto_columns": null,
            "grid_auto_flow": null,
            "grid_auto_rows": null,
            "grid_column": null,
            "grid_gap": null,
            "grid_row": null,
            "grid_template_areas": null,
            "grid_template_columns": null,
            "grid_template_rows": null,
            "height": null,
            "justify_content": null,
            "justify_items": null,
            "left": null,
            "margin": null,
            "max_height": null,
            "max_width": null,
            "min_height": null,
            "min_width": null,
            "object_fit": null,
            "object_position": null,
            "order": null,
            "overflow": null,
            "overflow_x": null,
            "overflow_y": null,
            "padding": null,
            "right": null,
            "top": null,
            "visibility": null,
            "width": null
          }
        },
        "a9594c4de9734895862a48f90bc8c621": {
          "model_module": "@jupyter-widgets/controls",
          "model_module_version": "1.5.0",
          "model_name": "ProgressStyleModel",
          "state": {
            "_model_module": "@jupyter-widgets/controls",
            "_model_module_version": "1.5.0",
            "_model_name": "ProgressStyleModel",
            "_view_count": null,
            "_view_module": "@jupyter-widgets/base",
            "_view_module_version": "1.2.0",
            "_view_name": "StyleView",
            "bar_color": null,
            "description_width": ""
          }
        },
        "bfecdc3138334cd1adcd055f338060d1": {
          "model_module": "@jupyter-widgets/controls",
          "model_module_version": "1.5.0",
          "model_name": "DescriptionStyleModel",
          "state": {
            "_model_module": "@jupyter-widgets/controls",
            "_model_module_version": "1.5.0",
            "_model_name": "DescriptionStyleModel",
            "_view_count": null,
            "_view_module": "@jupyter-widgets/base",
            "_view_module_version": "1.2.0",
            "_view_name": "StyleView",
            "description_width": ""
          }
        },
        "c52a55d3643b4f1c83bdf1b1b5fce242": {
          "model_module": "@jupyter-widgets/base",
          "model_module_version": "1.2.0",
          "model_name": "LayoutModel",
          "state": {
            "_model_module": "@jupyter-widgets/base",
            "_model_module_version": "1.2.0",
            "_model_name": "LayoutModel",
            "_view_count": null,
            "_view_module": "@jupyter-widgets/base",
            "_view_module_version": "1.2.0",
            "_view_name": "LayoutView",
            "align_content": null,
            "align_items": null,
            "align_self": null,
            "border": null,
            "bottom": null,
            "display": null,
            "flex": null,
            "flex_flow": null,
            "grid_area": null,
            "grid_auto_columns": null,
            "grid_auto_flow": null,
            "grid_auto_rows": null,
            "grid_column": null,
            "grid_gap": null,
            "grid_row": null,
            "grid_template_areas": null,
            "grid_template_columns": null,
            "grid_template_rows": null,
            "height": null,
            "justify_content": null,
            "justify_items": null,
            "left": null,
            "margin": null,
            "max_height": null,
            "max_width": null,
            "min_height": null,
            "min_width": null,
            "object_fit": null,
            "object_position": null,
            "order": null,
            "overflow": null,
            "overflow_x": null,
            "overflow_y": null,
            "padding": null,
            "right": null,
            "top": null,
            "visibility": null,
            "width": null
          }
        },
        "f1f07bc63a234590ac229d63217e197a": {
          "model_module": "@jupyter-widgets/controls",
          "model_module_version": "1.5.0",
          "model_name": "HTMLModel",
          "state": {
            "_dom_classes": [],
            "_model_module": "@jupyter-widgets/controls",
            "_model_module_version": "1.5.0",
            "_model_name": "HTMLModel",
            "_view_count": null,
            "_view_module": "@jupyter-widgets/controls",
            "_view_module_version": "1.5.0",
            "_view_name": "HTMLView",
            "description": "",
            "description_tooltip": null,
            "layout": "IPY_MODEL_48ec484f11324501b1020314d4989da6",
            "placeholder": "​",
            "style": "IPY_MODEL_bfecdc3138334cd1adcd055f338060d1",
            "value": " 79/79 [04:03&lt;00:00,  2.64s/it]"
          }
        }
      }
    }
  },
  "nbformat": 4,
  "nbformat_minor": 0
}
